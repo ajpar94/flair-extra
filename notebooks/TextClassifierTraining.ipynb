{
  "nbformat": 4,
  "nbformat_minor": 0,
  "metadata": {
    "colab": {
      "name": "TextClassifierTraining.ipynb",
      "provenance": [],
      "collapsed_sections": []
    },
    "kernelspec": {
      "name": "python3",
      "display_name": "Python 3"
    }
  },
  "cells": [
    {
      "cell_type": "markdown",
      "metadata": {
        "id": "_O5AFSI--j_V",
        "colab_type": "text"
      },
      "source": [
        "# Training a Text Classification Model\n",
        "\n"
      ]
    },
    {
      "cell_type": "markdown",
      "metadata": {
        "id": "dkVtxK79931X",
        "colab_type": "text"
      },
      "source": [
        "#### Google Colab Setup"
      ]
    },
    {
      "cell_type": "code",
      "metadata": {
        "id": "4SZE0ei290dx",
        "colab_type": "code",
        "colab": {}
      },
      "source": [
        "# MOUNT GOOGLE DRIVE\n",
        "from google.colab import drive\n",
        "drive.mount('/gdrive', force_remount=True)"
      ],
      "execution_count": 0,
      "outputs": []
    },
    {
      "cell_type": "code",
      "metadata": {
        "id": "4b-gkSTE-NLS",
        "colab_type": "code",
        "colab": {}
      },
      "source": [
        "# INSTALL FLAIR\n",
        "!pip install flair==0.4.4 --quiet"
      ],
      "execution_count": 0,
      "outputs": []
    },
    {
      "cell_type": "code",
      "metadata": {
        "id": "D0CoU6IR-Q0d",
        "colab_type": "code",
        "colab": {}
      },
      "source": [
        "# INSTALL ALLENNLP (only necessary when using ELMoEmbeddings)\n",
        "#!pip install allennlp --quiet"
      ],
      "execution_count": 0,
      "outputs": []
    },
    {
      "cell_type": "markdown",
      "metadata": {
        "id": "GsZth3cH-i_j",
        "colab_type": "text"
      },
      "source": [
        "#### Paths"
      ]
    },
    {
      "cell_type": "code",
      "metadata": {
        "id": "fIVdfJ4X-mTC",
        "colab_type": "code",
        "colab": {}
      },
      "source": [
        "# SETUP PATHS\n",
        "from pathlib import Path\n",
        "\n",
        "base_path = Path('/gdrive/My Drive/embeddings-comparison/resources')\n",
        "emb_path = base_path/'models'/'embeddings'\n",
        "cls_model_path = base_path/'models'/'classifiers'\n",
        "cls_corpus_path = base_path/'corpora'/'classification_corpora'"
      ],
      "execution_count": 0,
      "outputs": []
    },
    {
      "cell_type": "markdown",
      "metadata": {
        "id": "t_KBsrLCMIIN",
        "colab_type": "text"
      },
      "source": [
        "#### ClassificationCorpus"
      ]
    },
    {
      "cell_type": "code",
      "metadata": {
        "id": "leIe8mRRj7Ld",
        "colab_type": "code",
        "colab": {}
      },
      "source": [
        "\n",
        "from flair.data import Corpus\n",
        "from flair.datasets import  ClassificationCorpus #TREC_6\n",
        "\n",
        "# this is the folder in which train, test and dev files reside\n",
        "corpus_folder = cls_corpus_path/'EXAMPLE-CORPUS'\n",
        "\n",
        "# get the corpus\n",
        "corpus = ClassificationCorpus(corpus_folder)\n",
        "print(corpus)\n",
        "\n",
        "# create the label dictionary\n",
        "label_dict = corpus.make_label_dictionary()"
      ],
      "execution_count": 0,
      "outputs": []
    },
    {
      "cell_type": "markdown",
      "metadata": {
        "id": "uj3C3z6B_8mT",
        "colab_type": "text"
      },
      "source": [
        "#### Embeddings"
      ]
    },
    {
      "cell_type": "code",
      "metadata": {
        "id": "A-yBG6yf14Ew",
        "colab_type": "code",
        "colab": {}
      },
      "source": [
        "# INITIALIZE EMBEDDINGS\n",
        "from flair.embeddings import FlairEmbeddings, DocumentRNNEmbeddings, WordEmbeddings, BertEmbeddings, ELMoEmbeddings\n",
        "\n",
        "'''\n",
        "# WordEmbeddings [word2vec, fastText, glove]\n",
        "# we = str(emb_path/'example.kv')\n",
        "\n",
        "# FlairEmbeddings\n",
        "# flair_fwd = emb_path/'FLAIR'/'example-fwd.pt'\n",
        "# flair_bwd = emb_path/'FLAIR'/'example-bwd.pt'\n",
        "\n",
        "# ELMoEmbeddings\n",
        "# elmo_opttions = emb_path/'ELMO'/'options.json'\n",
        "# elmo_weights = emb_path/'ELMO'/'weights.hdf5'\n",
        "\n",
        "# BertEmbeddings\n",
        "# bert = str(emb_path/'BERT'/'model_folder')\n",
        "\n",
        "# List of Embeddings\n",
        "embeddings = [#WordEmbeddings(we),\n",
        "              #FlairEmbeddings(flair_fwd),\n",
        "              #FlairEmbeddings(flair_bwd),\n",
        "              #ELMoEmbeddings(elmo_options, elmo_weights),\n",
        "              #BertEmbeddings(bert),\n",
        "             ])\n",
        "             \n",
        "# DocumentRNNEmbeddings\n",
        "# Can choose between RNN types (GRU by default, or LSTM)\n",
        "document_embeddings = DocumentRNNEmbeddings(embeddings,\n",
        "                                            hidden_size=512,\n",
        "                                            reproject_words=True,\n",
        "                                            reproject_words_dimension=256,\n",
        "                                           )\n",
        "\n",
        "'''"
      ],
      "execution_count": 0,
      "outputs": []
    },
    {
      "cell_type": "markdown",
      "metadata": {
        "id": "TEZRrn9zGAAO",
        "colab_type": "text"
      },
      "source": [
        "#### Train Model"
      ]
    },
    {
      "cell_type": "code",
      "metadata": {
        "id": "cx8OYHSdGoo7",
        "colab_type": "code",
        "colab": {}
      },
      "source": [
        "# INITIALIZE TEXT CLASIIFIER\n",
        "from flair.models import TextClassifier\n",
        "\n",
        "# 5. create the text classifier\n",
        "classifier = TextClassifier(document_embeddings, label_dictionary=label_dict)"
      ],
      "execution_count": 0,
      "outputs": []
    },
    {
      "cell_type": "code",
      "metadata": {
        "id": "kwHCjz8SsLnB",
        "colab_type": "code",
        "colab": {}
      },
      "source": [
        "from flair.trainers import ModelTrainer\n",
        "\n",
        "# define output path\n",
        "model_folder = cls_model_path/'EXAMPLE-MODEL'\n",
        "\n",
        "# option to continue from checkpoint\n",
        "continue_training = False\n",
        "\n",
        "if continue_training:\n",
        "    checkpoint = model_folder/'checkpoint.pt'\n",
        "    trainer = ModelTrainer.load_checkpoint(checkpoint, corpus)\n",
        "else:\n",
        "    trainer = ModelTrainer(classifier, corpus)\n",
        "\n",
        "# 7. start the training\n",
        "trainer.train(model_folder,\n",
        "              learning_rate=0.1,\n",
        "              mini_batch_size=32,\n",
        "              anneal_factor=0.5,\n",
        "              patience=5,\n",
        "              max_epochs=20,\n",
        "              save_final_model=True,\n",
        "              embeddings_storage_mode='gpu')"
      ],
      "execution_count": 0,
      "outputs": []
    }
  ]
}