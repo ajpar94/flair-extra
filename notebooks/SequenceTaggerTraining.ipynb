{
  "nbformat": 4,
  "nbformat_minor": 0,
  "metadata": {
    "colab": {
      "name": "SequenceTaggerTraining.ipynb",
      "provenance": [],
      "collapsed_sections": []
    },
    "kernelspec": {
      "name": "python3",
      "display_name": "Python 3"
    }
  },
  "cells": [
    {
      "cell_type": "markdown",
      "metadata": {
        "id": "_O5AFSI--j_V",
        "colab_type": "text"
      },
      "source": [
        "# Training a Sequence Labeling Model (NER)\n",
        "\n"
      ]
    },
    {
      "cell_type": "markdown",
      "metadata": {
        "id": "dkVtxK79931X",
        "colab_type": "text"
      },
      "source": [
        "#### Google Colab Setup"
      ]
    },
    {
      "cell_type": "code",
      "metadata": {
        "id": "4SZE0ei290dx",
        "colab_type": "code",
        "colab": {}
      },
      "source": [
        "# MOUNT GOOGLE DRIVE\n",
        "from google.colab import drive\n",
        "drive.mount('/gdrive', force_remount=True)"
      ],
      "execution_count": 0,
      "outputs": []
    },
    {
      "cell_type": "code",
      "metadata": {
        "id": "4b-gkSTE-NLS",
        "colab_type": "code",
        "colab": {}
      },
      "source": [
        "# INSTALL FLAIR\n",
        "!pip install flair==0.4.4 --quiet"
      ],
      "execution_count": 0,
      "outputs": []
    },
    {
      "cell_type": "code",
      "metadata": {
        "id": "D0CoU6IR-Q0d",
        "colab_type": "code",
        "colab": {}
      },
      "source": [
        "# INSTALL ALLENNLP (only necessary when using ELMoEmbeddings)\n",
        "#!pip install allennlp --quiet"
      ],
      "execution_count": 0,
      "outputs": []
    },
    {
      "cell_type": "markdown",
      "metadata": {
        "id": "GsZth3cH-i_j",
        "colab_type": "text"
      },
      "source": [
        "#### Paths"
      ]
    },
    {
      "cell_type": "code",
      "metadata": {
        "id": "fIVdfJ4X-mTC",
        "colab_type": "code",
        "colab": {}
      },
      "source": [
        "# SETUP PATHS\n",
        "from pathlib import Path\n",
        "\n",
        "base_path = Path('/gdrive/My Drive/embeddings-comparison/resources')\n",
        "emb_path = base_path/'models'/'embeddings'\n",
        "ner_model_path = base_path/'models'/'taggers'\n",
        "ner_corpus_path = base_path/'corpora'/'column_corpora'"
      ],
      "execution_count": 0,
      "outputs": []
    },
    {
      "cell_type": "markdown",
      "metadata": {
        "id": "HkV4UEUq_slN",
        "colab_type": "text"
      },
      "source": [
        "#### ColumnCorpus"
      ]
    },
    {
      "cell_type": "code",
      "metadata": {
        "id": "Kk9pwnBDF_YN",
        "colab_type": "code",
        "colab": {}
      },
      "source": [
        "# PREPARE CORPUS\n",
        "from flair.datasets import ColumnCorpus\n",
        "\n",
        "# define columns (multiple possible: ... 2: 'pos')\n",
        "columns = {0: 'text', 1: 'ner'}\n",
        "\n",
        "# this is the folder in which train, test and dev files reside\n",
        "corpus_folder = ner_corpus_path/'EXAMPLE-CORPUS'\n",
        "\n",
        "# init a corpus using column format, data folder \n",
        "corpus = ColumnCorpus(corpus_folder, columns)\n",
        "print(corpus)\n",
        "\n",
        "# what tag do we want to predict?\n",
        "tag_type = 'ner'\n",
        "\n",
        "# make the tag dictionary from the corpus\n",
        "tag_dictionary = corpus.make_tag_dictionary(tag_type=tag_type)\n",
        "# print(tag_dictionary.idx2item)"
      ],
      "execution_count": 0,
      "outputs": []
    },
    {
      "cell_type": "markdown",
      "metadata": {
        "id": "uj3C3z6B_8mT",
        "colab_type": "text"
      },
      "source": [
        "#### Embeddings"
      ]
    },
    {
      "cell_type": "code",
      "metadata": {
        "id": "A-yBG6yf14Ew",
        "colab_type": "code",
        "colab": {}
      },
      "source": [
        "# INITIALIZE EMBEDDINGS\n",
        "from flair.embeddings import FlairEmbeddings, StackedEmbeddings, WordEmbeddings, BertEmbeddings, ELMoEmbeddings\n",
        "\n",
        "'''\n",
        "# WordEmbeddings [word2vec, fastText, glove]\n",
        "# we = str(emb_path/'example.kv')\n",
        "\n",
        "# FlairEmbeddings\n",
        "# flair_fwd = emb_path/'FLAIR'/'example-fwd.pt'\n",
        "# flair_bwd = emb_path/'FLAIR'/'example-bwd.pt'\n",
        "\n",
        "# ELMoEmbeddings\n",
        "# elmo_opttions = emb_path/'ELMO'/'options.json'\n",
        "# elmo_weights = emb_path/'ELMO'/'weights.hdf5'\n",
        "\n",
        "# BertEmbeddings\n",
        "# bert = str(emb_path/'BERT'/'model_folder')\n",
        "\n",
        "# StackedEmbeddings\n",
        "embeddings = StackedEmbeddings([#WordEmbeddings(we),\n",
        "                                #FlairEmbeddings(flair_fwd),\n",
        "                                #FlairEmbeddings(flair_bwd),\n",
        "                                #ELMoEmbeddings(elmo_options, elmo_weights),\n",
        "                                #BertEmbeddings(bert),\n",
        "                               ])\n",
        "'''"
      ],
      "execution_count": 0,
      "outputs": []
    },
    {
      "cell_type": "markdown",
      "metadata": {
        "id": "TEZRrn9zGAAO",
        "colab_type": "text"
      },
      "source": [
        "#### Train Model"
      ]
    },
    {
      "cell_type": "code",
      "metadata": {
        "id": "G1SbTCAyGal_",
        "colab_type": "code",
        "colab": {}
      },
      "source": [
        "# INITIALIZE SEQUENCE TAGGER\n",
        "from flair.models import SequenceTagger\n",
        "\n",
        "tagger = SequenceTagger(hidden_size=512,\n",
        "                        embeddings=embeddings,\n",
        "                        tag_dictionary=tag_dictionary,\n",
        "                        tag_type=tag_type)"
      ],
      "execution_count": 0,
      "outputs": []
    },
    {
      "cell_type": "code",
      "metadata": {
        "id": "F6JWBQEGGyEG",
        "colab_type": "code",
        "colab": {}
      },
      "source": [
        "# INITIALIZE TRAINER\n",
        "from flair.trainers import ModelTrainer\n",
        "\n",
        "# define output path\n",
        "model_folder = ner_model_path/'EXAMPLE-MODEL'\n",
        "\n",
        "# option to continue from checkpoint\n",
        "continue_training = False\n",
        "\n",
        "if continue_training:\n",
        "    checkpoint = tagger.load_checkpoint(model_folder/'checkpoint.pt')\n",
        "    trainer = ModelTrainer.load_from_checkpoint(checkpoint, corpus)\n",
        "else:\n",
        "    trainer = ModelTrainer(tagger, corpus)\n",
        "\n",
        "# Training\n",
        "trainer.train(model_folder,\n",
        "              learning_rate=0.5,\n",
        "              anneal_factor=0.5,\n",
        "              mini_batch_size=8,\n",
        "              patience=5,\n",
        "              max_epochs=50,\n",
        "              train_with_dev=True,\n",
        "              monitor_test=True,\n",
        "              shuffle=True,\n",
        "              checkpoint=True)"
      ],
      "execution_count": 0,
      "outputs": []
    }
  ]
}